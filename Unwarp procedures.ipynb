{
 "cells": [
  {
   "cell_type": "markdown",
   "id": "dcdd4b2f-5072-42bd-95d1-cdce08bb17ec",
   "metadata": {},
   "source": [
    "### Napari unwarper - auto alignment"
   ]
  },
  {
   "cell_type": "code",
   "execution_count": 2,
   "id": "8c186463-f96c-4e8e-8b64-dda7c0d40358",
   "metadata": {},
   "outputs": [],
   "source": [
    "import napari\n",
    "from tifffile import imread\n",
    "import numpy as np\n",
    "\n",
    "from pointpats import PointPattern\n",
    "import matplotlib.pyplot as plt"
   ]
  },
  {
   "cell_type": "code",
   "execution_count": 2,
   "id": "00eaf8f1-0a58-4403-8d4a-2b09664fd64a",
   "metadata": {},
   "outputs": [
    {
     "name": "stdout",
     "output_type": "stream",
     "text": [
      "(256, 256)\n"
     ]
    }
   ],
   "source": [
    "original_tif = '/Users/hotte/Downloads/AVG_FOV_256_zoom11test_AfterFixPCB_00001.tif'\n",
    "original_tif_ = imread(original_tif)\n",
    "print(original_tif_.shape)"
   ]
  },
  {
   "cell_type": "code",
   "execution_count": 3,
   "id": "a680b438-a6c8-4b9e-8bbe-6dae928a2bb9",
   "metadata": {},
   "outputs": [],
   "source": [
    "viewer = napari.view_image(original_tif_, rgb=False, name='Grid image')\n",
    "grid_image_layer = viewer.layers['Grid image']"
   ]
  },
  {
   "cell_type": "code",
   "execution_count": 4,
   "id": "2473f09d-6472-43f7-ae49-f599622f0ae7",
   "metadata": {},
   "outputs": [],
   "source": [
    "grid_image_layer.gamma = 1"
   ]
  },
  {
   "cell_type": "code",
   "execution_count": 5,
   "id": "261c5714-474a-491a-a4eb-57ed90c1b252",
   "metadata": {},
   "outputs": [],
   "source": [
    "viewer.add_points(name='Original', \n",
    "                  edge_width=1, \n",
    "                  edge_color='orangered',  \n",
    "                  face_color = 'white',\n",
    "                  opacity = .5,    \n",
    "                  size=8,\n",
    "                  blending='translucent'\n",
    "              )\n",
    "viewer.layers['Original'].mode ='add'\n",
    "viewer.layers['Original'].symbol ='x'"
   ]
  },
  {
   "cell_type": "code",
   "execution_count": 6,
   "id": "2d2dd5fb-cbbf-4095-9797-ae474efd42b3",
   "metadata": {},
   "outputs": [],
   "source": [
    "layer_original = viewer.layers['Original']\n",
    "usr_points = layer_original.data"
   ]
  },
  {
   "cell_type": "code",
   "execution_count": 108,
   "id": "f5ee52c3-2eb6-47e3-908e-9f9311bd1e5a",
   "metadata": {},
   "outputs": [],
   "source": [
    "#usr_points = usr_points[:,::-1]"
   ]
  },
  {
   "cell_type": "code",
   "execution_count": 109,
   "id": "eb52d6a4-8805-4689-9632-20ab0b130b04",
   "metadata": {},
   "outputs": [
    {
     "data": {
      "text/plain": [
       "89"
      ]
     },
     "execution_count": 109,
     "metadata": {},
     "output_type": "execute_result"
    }
   ],
   "source": [
    "len(usr_points)"
   ]
  },
  {
   "cell_type": "raw",
   "id": "0f2341de-d2ff-4bf6-a5d2-8b02a21c52ff",
   "metadata": {},
   "source": [
    "viewer.add_points(name='Firsts', \n",
    "                  edge_width=1, \n",
    "                  edge_color='yellowgreen',  \n",
    "                  face_color = 'white',\n",
    "                  opacity = 1,    \n",
    "                  size=8,\n",
    "                  blending='translucent'\n",
    "              )\n",
    "viewer.layers['Firsts'].mode ='add'\n",
    "viewer.layers['Firsts'].symbol ='o'"
   ]
  },
  {
   "cell_type": "raw",
   "id": "967fb889-3c9d-4288-969c-095b76b51f5f",
   "metadata": {},
   "source": [
    "layer_firsts = viewer.layers['Firsts']\n",
    "first_points = layer_firsts.data"
   ]
  },
  {
   "cell_type": "raw",
   "id": "2566bf0b-e008-4d4a-b907-af2ed94742d2",
   "metadata": {},
   "source": [
    "len(first_points)"
   ]
  },
  {
   "cell_type": "code",
   "execution_count": 110,
   "id": "818bd7a6-71e2-432b-ac46-27d714148f03",
   "metadata": {},
   "outputs": [
    {
     "data": {
      "text/plain": [
       "array([[ 35.82963435,  -0.38914885],\n",
       "       [253.25132211,  17.03944336]])"
      ]
     },
     "execution_count": 110,
     "metadata": {},
     "output_type": "execute_result"
    }
   ],
   "source": [
    "first_points"
   ]
  },
  {
   "cell_type": "code",
   "execution_count": null,
   "id": "c5e48a96-4233-4c47-a573-a3456263403f",
   "metadata": {},
   "outputs": [],
   "source": []
  },
  {
   "cell_type": "code",
   "execution_count": null,
   "id": "622bf8af-72a8-4cb6-8925-2fd1a3ff7889",
   "metadata": {},
   "outputs": [],
   "source": []
  },
  {
   "cell_type": "code",
   "execution_count": 111,
   "id": "8232b7a6-2a5d-4466-802d-16a41d43a300",
   "metadata": {},
   "outputs": [],
   "source": [
    "usr_point_pat = PointPattern(usr_points)"
   ]
  },
  {
   "cell_type": "code",
   "execution_count": 112,
   "id": "69224640-ddbf-498e-babb-1e36d1dad89f",
   "metadata": {},
   "outputs": [],
   "source": [
    "nn4, nnd4 = usr_point_pat.knn(4)"
   ]
  },
  {
   "cell_type": "code",
   "execution_count": 113,
   "id": "2396e7ed-b42d-4156-b4c5-0df0514bb00e",
   "metadata": {},
   "outputs": [
    {
     "name": "stdout",
     "output_type": "stream",
     "text": [
      "Median spacing points: 23.01\n"
     ]
    }
   ],
   "source": [
    "nnd_1 = nnd4[:,0]\n",
    "med_dist = np.median(nnd_1)\n",
    "\n",
    "print(f'Median spacing points: {med_dist:.2f}')\n",
    "#plt.hist(nnd_1, bins=20);\n",
    "#plt.axvline(np.median(nnd_1), color='k', ls=':')"
   ]
  },
  {
   "cell_type": "code",
   "execution_count": null,
   "id": "3ca84149-5770-49b9-afab-07a29a674bae",
   "metadata": {},
   "outputs": [],
   "source": []
  },
  {
   "cell_type": "code",
   "execution_count": 114,
   "id": "7a766401-4921-490c-bb3f-b1adad3d7239",
   "metadata": {},
   "outputs": [],
   "source": [
    "angles = []\n",
    "for no, (nn, nnd) in enumerate(zip(nn4, nnd4)): \n",
    "    filt = nn[nnd < med_dist * 1.5]\n",
    "    \n",
    "\n",
    "    for filt_idx in filt: \n",
    "        angle = np.arctan2(np.diff([usr_points[no][0], usr_points[filt_idx][0]]),\n",
    "                           np.diff([usr_points[no][1], usr_points[filt_idx][1]]))[0]\n",
    "        angles.append(angle)\n",
    "angles = np.degrees(angles)"
   ]
  },
  {
   "cell_type": "code",
   "execution_count": 115,
   "id": "b63d648b-232b-465b-87ad-d885b78c97b8",
   "metadata": {},
   "outputs": [
    {
     "data": {
      "image/png": "[encoded data removed]",
      "text/plain": [
       "<Figure size 432x288 with 1 Axes>"
      ]
     },
     "metadata": {
      "needs_background": "light"
     },
     "output_type": "display_data"
    }
   ],
   "source": [
    "plt.hist(angles, bins=80);"
   ]
  },
  {
   "cell_type": "code",
   "execution_count": 116,
   "id": "a8f459d0-d0aa-4157-a846-75e6ef233dc3",
   "metadata": {},
   "outputs": [],
   "source": [
    "from scipy import stats\n",
    "from scipy.signal import find_peaks"
   ]
  },
  {
   "cell_type": "code",
   "execution_count": 117,
   "id": "55d50bc8-5e1c-44bb-89c3-51e35cfdbbc6",
   "metadata": {},
   "outputs": [],
   "source": [
    "x = angles\n",
    "bins = np.arange(-180,180,1)"
   ]
  },
  {
   "cell_type": "code",
   "execution_count": 118,
   "id": "46f8e6a2-5f20-4c86-9d68-a6e48bb79168",
   "metadata": {},
   "outputs": [
    {
     "data": {
      "text/plain": [
       "<matplotlib.collections.PathCollection at 0x7feddc6e8f10>"
      ]
     },
     "execution_count": 118,
     "metadata": {},
     "output_type": "execute_result"
    },
    {
     "data": {
      "image/png": "[encoded data removed]",
      "text/plain": [
       "<Figure size 720x360 with 1 Axes>"
      ]
     },
     "metadata": {
      "needs_background": "light"
     },
     "output_type": "display_data"
    }
   ],
   "source": [
    "kde = stats.gaussian_kde(x , bw_method=.08)\n",
    "xx = np.linspace(-250, 250, 1000)\n",
    "figure = plt.figure(figsize=(10,5))\n",
    "ax = figure.add_subplot(111)\n",
    "ax.hist(x, density=True, bins=bins, alpha=0.5)\n",
    "ax.plot(xx, kde(xx))\n",
    "\n",
    "peaks = find_peaks(kde(xx), width=20, prominence=.001)\n",
    "ax.scatter(xx[peaks[0]], np.zeros_like(peaks[0])+0.03, s=200, marker='|', color='red')"
   ]
  },
  {
   "cell_type": "code",
   "execution_count": 119,
   "id": "d61ef82f-e307-47cc-9cba-35c7a39ca778",
   "metadata": {},
   "outputs": [],
   "source": [
    "filt_peaks = [] \n",
    "for peak in np.mod(xx[peaks[0]],90):\n",
    "    if np.abs(90-np.abs(peak)) < np.abs(peak):\n",
    "        filt_peaks.append(90-np.abs(peak))\n",
    "    else:\n",
    "        filt_peaks.append(np.abs(peak))"
   ]
  },
  {
   "cell_type": "code",
   "execution_count": 120,
   "id": "52927695-4711-4290-95d6-110dc6925c96",
   "metadata": {},
   "outputs": [
    {
     "name": "stdout",
     "output_type": "stream",
     "text": [
      "Median orientation in degrees: 2.3\n"
     ]
    }
   ],
   "source": [
    "print(f'Median orientation in degrees: {np.median(filt_peaks):.2}')"
   ]
  },
  {
   "cell_type": "code",
   "execution_count": 124,
   "id": "469f6fd0-2607-4b58-9314-d7b283f8e998",
   "metadata": {},
   "outputs": [
    {
     "name": "stdout",
     "output_type": "stream",
     "text": [
      "9\n"
     ]
    }
   ],
   "source": [
    "# adapted from \n",
    "# https://stackoverflow.com/questions/29630052/ordering-coordinates-from-top-left-to-bottom-right/64659569#64659569\n",
    "\n",
    "points = []\n",
    "line_locations= []\n",
    "keypoints_to_search = usr_points[:]\n",
    "while len(keypoints_to_search) > 0:\n",
    "    a = sorted(keypoints_to_search, key=lambda p: p[1] + p[0])[0]   # find upper left point\n",
    "    b = sorted(keypoints_to_search, key=lambda p: p[0] - p[1])[-1]  # find bottom left point\n",
    "    line_locations.append([[a[0], a[1]], [b[0], b[1]]])\n",
    "\n",
    "    # convert to numpy 3d point\n",
    "    a = np.array([a[1], a[0]])\n",
    "    b = np.array([b[1], b[0]])\n",
    "\n",
    "    row_points = []\n",
    "    remaining_points = []\n",
    "    dists = []\n",
    "    for k in keypoints_to_search:\n",
    "        p = np.array([k[1], k[0]])\n",
    "        dist = np.linalg.norm(np.cross(np.subtract(p, a), np.subtract(b, a))) / np.linalg.norm(b)   # distance between keypoint and line a->b\n",
    "        dists.append(dist)\n",
    "        if dist < med_dist/2:\n",
    "            row_points.append(k)\n",
    "        else:\n",
    "            remaining_points.append(k)\n",
    "    print((len(row_points)))\n",
    "    points.extend(sorted(row_points, key=lambda h: h[0]))\n",
    "    keypoints_to_search = remaining_points\n",
    "    break"
   ]
  },
  {
   "cell_type": "code",
   "execution_count": 125,
   "id": "bdc9ef89-4d83-4307-bbb8-743e981650e0",
   "metadata": {},
   "outputs": [
    {
     "data": {
      "text/plain": [
       "<Shapes layer 'Row lines' at 0x7feddc990fd0>"
      ]
     },
     "execution_count": 125,
     "metadata": {},
     "output_type": "execute_result"
    }
   ],
   "source": [
    "viewer.add_shapes(np.asarray(line_locations), \n",
    "                  name ='Row lines',\n",
    "                  shape_type='line', \n",
    "                  face_color = [0]*4, \n",
    "                  edge_color = \"mediumturquoise\", \n",
    "                  edge_width = .5)\n"
   ]
  },
  {
   "cell_type": "code",
   "execution_count": 135,
   "id": "176a1f19-bdee-4ac6-a2fd-d96984d8ad69",
   "metadata": {},
   "outputs": [],
   "source": [
    "def dist(pointA, pointB):\n",
    "    dist = np.sqrt(np.square(pointB[0]-pointA[0]) + np.square(pointB[1]-pointA[1]))\n",
    "    return dist"
   ]
  },
  {
   "cell_type": "code",
   "execution_count": 136,
   "id": "fb9031ac-fe3d-4073-977c-42ef42758ecf",
   "metadata": {},
   "outputs": [
    {
     "data": {
      "text/plain": [
       "[[[35.82963435435985, -1.6962932644661493],\n",
       "  [253.68703691776457, 17.03944335598665]]]"
      ]
     },
     "execution_count": 136,
     "metadata": {},
     "output_type": "execute_result"
    }
   ],
   "source": [
    "line_locations"
   ]
  },
  {
   "cell_type": "code",
   "execution_count": 137,
   "id": "944230ed-6cfd-4fb5-9378-37fa9a3cdb1b",
   "metadata": {},
   "outputs": [
    {
     "data": {
      "text/plain": [
       "[array([35.82963435, -1.69629326]),\n",
       " array([68.72449092,  1.01235233]),\n",
       " array([91.46056014,  4.47498106]),\n",
       " array([113.27698916,   7.71796376]),\n",
       " array([140.69493374,  10.07649662]),\n",
       " array([165.7691027 ,  12.98430055]),\n",
       " array([188.78041128,  14.14709728]),\n",
       " array([215.77984887,  14.42515453]),\n",
       " array([253.68703692,  17.03944336])]"
      ]
     },
     "execution_count": 137,
     "metadata": {},
     "output_type": "execute_result"
    }
   ],
   "source": [
    "points"
   ]
  },
  {
   "cell_type": "code",
   "execution_count": 142,
   "id": "21a7ac48-82e5-45e7-abe7-a13a5425ef6b",
   "metadata": {},
   "outputs": [],
   "source": [
    "start_point_line = points[0]\n",
    "end_point_line   = points[-1]"
   ]
  },
  {
   "cell_type": "code",
   "execution_count": null,
   "id": "6d0d4d0e-c9fa-4399-9638-8b4e1128b2f8",
   "metadata": {},
   "outputs": [],
   "source": []
  },
  {
   "cell_type": "code",
   "execution_count": null,
   "id": "10836db0-1257-44dd-af5d-2978504dcc0c",
   "metadata": {},
   "outputs": [],
   "source": []
  },
  {
   "cell_type": "code",
   "execution_count": null,
   "id": "a0767b37-6414-4343-9354-cd230c169905",
   "metadata": {},
   "outputs": [],
   "source": []
  },
  {
   "cell_type": "code",
   "execution_count": 140,
   "id": "6771134c-ce00-412e-ad3c-dd1976f44835",
   "metadata": {},
   "outputs": [
    {
     "data": {
      "text/plain": [
       "23.012697820240746"
      ]
     },
     "execution_count": 140,
     "metadata": {},
     "output_type": "execute_result"
    }
   ],
   "source": [
    "med_dist"
   ]
  },
  {
   "cell_type": "code",
   "execution_count": null,
   "id": "2faffc45-b931-4c73-9849-373fa0d71489",
   "metadata": {},
   "outputs": [],
   "source": []
  },
  {
   "cell_type": "code",
   "execution_count": null,
   "id": "0cc051e4-707f-40c4-831e-2e1bb891f6ce",
   "metadata": {},
   "outputs": [],
   "source": []
  },
  {
   "cell_type": "code",
   "execution_count": null,
   "id": "8f97ca68-6397-4904-a93b-26a1ef87f65a",
   "metadata": {},
   "outputs": [],
   "source": []
  },
  {
   "cell_type": "code",
   "execution_count": 128,
   "id": "3bdd25d8-5339-4349-8301-3ee24435cbaa",
   "metadata": {},
   "outputs": [
    {
     "ename": "NameError",
     "evalue": "name 'x2' is not defined",
     "output_type": "error",
     "traceback": [
      "\u001b[0;31m---------------------------------------------------------------------------\u001b[0m",
      "\u001b[0;31mNameError\u001b[0m                                 Traceback (most recent call last)",
      "\u001b[0;32m/var/folders/p6/yc5gt471151cctsdh2fhxmbm0000gn/T/ipykernel_10760/812697202.py\u001b[0m in \u001b[0;36m<module>\u001b[0;34m\u001b[0m\n\u001b[0;32m----> 1\u001b[0;31m \u001b[0mdist\u001b[0m \u001b[0;34m=\u001b[0m \u001b[0mnp\u001b[0m\u001b[0;34m.\u001b[0m\u001b[0msqrt\u001b[0m\u001b[0;34m(\u001b[0m\u001b[0mnp\u001b[0m\u001b[0;34m.\u001b[0m\u001b[0msquare\u001b[0m\u001b[0;34m(\u001b[0m\u001b[0mx2\u001b[0m \u001b[0;34m-\u001b[0m \u001b[0mx1\u001b[0m\u001b[0;34m)\u001b[0m \u001b[0;34m+\u001b[0m \u001b[0mnp\u001b[0m\u001b[0;34m.\u001b[0m\u001b[0msquare\u001b[0m\u001b[0;34m(\u001b[0m\u001b[0my2\u001b[0m \u001b[0;34m-\u001b[0m \u001b[0my1\u001b[0m\u001b[0;34m)\u001b[0m \u001b[0;34m)\u001b[0m\u001b[0;34m\u001b[0m\u001b[0;34m\u001b[0m\u001b[0m\n\u001b[0m",
      "\u001b[0;31mNameError\u001b[0m: name 'x2' is not defined"
     ]
    }
   ],
   "source": [
    "dist = np.sqrt(np.square(x2 - x1) + np.square(y2 - y1) )\n"
   ]
  },
  {
   "cell_type": "code",
   "execution_count": null,
   "id": "42c80177-bd93-40dd-a1d5-ffd8224aff1c",
   "metadata": {},
   "outputs": [],
   "source": []
  },
  {
   "cell_type": "code",
   "execution_count": null,
   "id": "9549c145-3758-4774-bc1a-81a6518a5b4f",
   "metadata": {},
   "outputs": [],
   "source": []
  },
  {
   "cell_type": "code",
   "execution_count": null,
   "id": "0e93f14a-a8c6-4cda-afb1-6a02904562aa",
   "metadata": {},
   "outputs": [],
   "source": []
  },
  {
   "cell_type": "code",
   "execution_count": null,
   "id": "34261660-09b5-4d8f-b61b-56f53bbcf067",
   "metadata": {},
   "outputs": [],
   "source": []
  },
  {
   "cell_type": "code",
   "execution_count": 123,
   "id": "21e78811-ffd7-4465-ac47-c0b78ff238c5",
   "metadata": {},
   "outputs": [
    {
     "data": {
      "text/plain": [
       "<Points layer 'Sorted points' at 0x7feddc8af550>"
      ]
     },
     "execution_count": 123,
     "metadata": {},
     "output_type": "execute_result"
    }
   ],
   "source": [
    "properties = {\n",
    "    'point_idx': np.arange(len(points)),\n",
    "}\n",
    "\n",
    "viewer.add_points(name='Sorted points',\n",
    "                  data=points,\n",
    "                  text= {\n",
    "                                'text': '{point_idx}',\n",
    "                                'size': 12,\n",
    "                                'weight':'bold',\n",
    "                                'color': 'mediumseagreen',\n",
    "                                'translation': np.array([-5, -5]),\n",
    "                            },\n",
    "                  properties=properties,\n",
    "                  edge_width=1, \n",
    "                  edge_color='#000000',  \n",
    "                  face_color = 'white',\n",
    "                  opacity = .8,    \n",
    "                  size=3,\n",
    "                  blending='translucent'\n",
    "              )"
   ]
  },
  {
   "cell_type": "code",
   "execution_count": null,
   "id": "061ce62a-90b9-44ae-9089-f61fe8c76000",
   "metadata": {},
   "outputs": [],
   "source": []
  },
  {
   "cell_type": "code",
   "execution_count": null,
   "id": "d6d5bfab-a6fd-4669-8d56-1c094f9288b1",
   "metadata": {},
   "outputs": [],
   "source": []
  },
  {
   "cell_type": "code",
   "execution_count": null,
   "id": "7ca9de20-a79d-428d-9a52-c2d0462e1f17",
   "metadata": {},
   "outputs": [],
   "source": []
  },
  {
   "cell_type": "code",
   "execution_count": null,
   "id": "05e3b627-fcfa-4fc4-b2bd-1700d3d55fc9",
   "metadata": {},
   "outputs": [],
   "source": []
  },
  {
   "cell_type": "code",
   "execution_count": null,
   "id": "2bed5dbd-d3af-4501-bc9c-48a901470360",
   "metadata": {},
   "outputs": [],
   "source": []
  },
  {
   "cell_type": "code",
   "execution_count": null,
   "id": "590b38c1-474e-4a1c-b618-f9ab64a0ddb2",
   "metadata": {},
   "outputs": [],
   "source": []
  }
 ],
 "metadata": {
  "kernelspec": {
   "display_name": "Python 3 (ipykernel)",
   "language": "python",
   "name": "python3"
  },
  "language_info": {
   "codemirror_mode": {
    "name": "ipython",
    "version": 3
   },
   "file_extension": ".py",
   "mimetype": "text/x-python",
   "name": "python",
   "nbconvert_exporter": "python",
   "pygments_lexer": "ipython3",
   "version": "3.9.7"
  },
  "widgets": {
   "application/vnd.jupyter.widget-state+json": {
    "state": {},
    "version_major": 2,
    "version_minor": 0
   }
  }
 },
 "nbformat": 4,
 "nbformat_minor": 5
}
